{
 "cells": [
  {
   "cell_type": "code",
   "execution_count": 2,
   "metadata": {},
   "outputs": [
    {
     "name": "stdout",
     "output_type": "stream",
     "text": [
      "Bienvenue au jeu de devinettes !\n",
      "C'est moins !\n",
      "C'est plus !\n",
      "C'est moins !\n",
      "C'est plus !\n",
      "C'est plus !\n",
      "C'est plus !\n",
      "C'est plus !\n",
      "Félicitations ! Vous avez trouvé le nombre en 8 essais.\n"
     ]
    }
   ],
   "source": [
    "import random\n",
    "\n",
    "def jeu_de_devinettes():\n",
    "    print(\"Bienvenue au jeu de devinettes !\")\n",
    "    \n",
    "    # Laissez l'utilisateur choisir la plage de nombres\n",
    "    min_val = int(input(\"Entrez la valeur minimale : \"))\n",
    "    max_val = int(input(\"Entrez la valeur maximale : \"))\n",
    "\n",
    "    # Génération aléatoire du nombre à deviner\n",
    "    nombre_secret = random.randint(min_val, max_val)\n",
    "    \n",
    "    nombre_essais = 0\n",
    "    while True:\n",
    "        essai = int(input(f\"Devinez le nombre entre {min_val} et {max_val} : \"))\n",
    "        nombre_essais += 1\n",
    "\n",
    "        if essai < nombre_secret:\n",
    "            print(\"C'est plus !\")\n",
    "        elif essai > nombre_secret:\n",
    "            print(\"C'est moins !\")\n",
    "        else:\n",
    "            print(f\"Félicitations ! Vous avez trouvé le nombre en {nombre_essais} essais.\")\n",
    "            break\n",
    "\n",
    "# Lancer le jeu\n",
    "jeu_de_devinettes()\n"
   ]
  }
 ],
 "metadata": {
  "kernelspec": {
   "display_name": "Python 3",
   "language": "python",
   "name": "python3"
  },
  "language_info": {
   "codemirror_mode": {
    "name": "ipython",
    "version": 3
   },
   "file_extension": ".py",
   "mimetype": "text/x-python",
   "name": "python",
   "nbconvert_exporter": "python",
   "pygments_lexer": "ipython3",
   "version": "3.12.0"
  }
 },
 "nbformat": 4,
 "nbformat_minor": 2
}
